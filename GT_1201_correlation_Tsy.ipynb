{
 "cells": [
  {
   "cell_type": "code",
   "execution_count": 12,
   "id": "3444520d-1d1a-4840-9237-7fd81d195f95",
   "metadata": {},
   "outputs": [],
   "source": [
    "import pandas as pd\n",
    "from sklearn.linear_model import LinearRegression\n",
    "import statsmodels.api as sm\n",
    "\n",
    "import numpy as np\n",
    "\n",
    "import sklearn\n",
    "from sklearn.linear_model import LogisticRegression\n",
    "from sklearn.metrics import confusion_matrix\n",
    "\n",
    "import matplotlib.pyplot as plt\n",
    "import seaborn as sn\n",
    "\n",
    "pd.set_option('display.max_rows', 300) # specifies number of rows to show\n",
    "pd.options.display.float_format = '{:40,.4f}'.format # specifies default number format to 4 decimal places\n",
    "plt.style.use('ggplot') # specifies that graphs should use ggplot styling\n",
    "sn.set(font_scale=1.5)\n",
    "%matplotlib inline"
   ]
  },
  {
   "cell_type": "code",
   "execution_count": 2,
   "id": "1540deb9-bb6a-4c45-92f4-9cf86da9e272",
   "metadata": {},
   "outputs": [
    {
     "name": "stdout",
     "output_type": "stream",
     "text": [
      "0.13.2\n"
     ]
    }
   ],
   "source": [
    "import statsmodels\n",
    "print(statsmodels.__version__)"
   ]
  },
  {
   "cell_type": "code",
   "execution_count": 13,
   "id": "9f13db25-e782-4bbf-95c2-177b8cb04f3d",
   "metadata": {},
   "outputs": [
    {
     "name": "stdout",
     "output_type": "stream",
     "text": [
      "<class 'pandas.core.frame.DataFrame'>\n",
      "RangeIndex: 4835 entries, 0 to 4834\n",
      "Data columns (total 11 columns):\n",
      " #   Column                                       Non-Null Count  Dtype  \n",
      "---  ------                                       --------------  -----  \n",
      " 0   lsoa                                         4835 non-null   object \n",
      " 1   names                                        4835 non-null   object \n",
      " 2   unemployment_rate                            4835 non-null   float64\n",
      " 3   couple_household_without_dependent_children  4835 non-null   float64\n",
      " 4   lone_parent_household                        4835 non-null   float64\n",
      " 5   ethnic_white                                 4835 non-null   float64\n",
      " 6   ethnic_black                                 4835 non-null   float64\n",
      " 7   tenurec_owned_outright                       4835 non-null   float64\n",
      " 8   tenurtc_social_rented                        4835 non-null   float64\n",
      " 9   good_health                                  4835 non-null   float64\n",
      " 10  bad_health                                   4835 non-null   float64\n",
      "dtypes: float64(9), object(2)\n",
      "memory usage: 415.6+ KB\n"
     ]
    }
   ],
   "source": [
    "unem_orig = pd.read_csv('https://raw.githubusercontent.com/yanqizeng/qm_assessment/main/GT_selected_12_3_2.csv')\n",
    "unem_orig.info()"
   ]
  },
  {
   "cell_type": "code",
   "execution_count": 14,
   "id": "66ae8264-f409-44c7-b05c-5b57325a521b",
   "metadata": {},
   "outputs": [
    {
     "data": {
      "text/html": [
       "<div>\n",
       "<style scoped>\n",
       "    .dataframe tbody tr th:only-of-type {\n",
       "        vertical-align: middle;\n",
       "    }\n",
       "\n",
       "    .dataframe tbody tr th {\n",
       "        vertical-align: top;\n",
       "    }\n",
       "\n",
       "    .dataframe thead th {\n",
       "        text-align: right;\n",
       "    }\n",
       "</style>\n",
       "<table border=\"1\" class=\"dataframe\">\n",
       "  <thead>\n",
       "    <tr style=\"text-align: right;\">\n",
       "      <th></th>\n",
       "      <th>lsoa</th>\n",
       "      <th>names</th>\n",
       "      <th>unemployment_rate</th>\n",
       "      <th>couple_household_without_dependent_children</th>\n",
       "      <th>lone_parent_household</th>\n",
       "      <th>ethnic_white</th>\n",
       "      <th>ethnic_black</th>\n",
       "      <th>tenurec_owned_outright</th>\n",
       "      <th>tenurtc_social_rented</th>\n",
       "      <th>good_health</th>\n",
       "      <th>bad_health</th>\n",
       "    </tr>\n",
       "  </thead>\n",
       "  <tbody>\n",
       "    <tr>\n",
       "      <th>0</th>\n",
       "      <td>E01000907</td>\n",
       "      <td>Camden 001A</td>\n",
       "      <td>9.9000</td>\n",
       "      <td>20.1000</td>\n",
       "      <td>21.1000</td>\n",
       "      <td>73.5000</td>\n",
       "      <td>7.9000</td>\n",
       "      <td>12.6000</td>\n",
       "      <td>54.4000</td>\n",
       "      <td>78.0000</td>\n",
       "      <td>8.7000</td>\n",
       "    </tr>\n",
       "    <tr>\n",
       "      <th>1</th>\n",
       "      <td>E01000908</td>\n",
       "      <td>Camden 001B</td>\n",
       "      <td>8.0000</td>\n",
       "      <td>17.3000</td>\n",
       "      <td>13.2000</td>\n",
       "      <td>72.4000</td>\n",
       "      <td>8.0000</td>\n",
       "      <td>14.0000</td>\n",
       "      <td>52.6000</td>\n",
       "      <td>78.2000</td>\n",
       "      <td>9.4000</td>\n",
       "    </tr>\n",
       "    <tr>\n",
       "      <th>2</th>\n",
       "      <td>E01000909</td>\n",
       "      <td>Camden 001C</td>\n",
       "      <td>4.9000</td>\n",
       "      <td>29.3000</td>\n",
       "      <td>7.3000</td>\n",
       "      <td>84.1000</td>\n",
       "      <td>2.9000</td>\n",
       "      <td>38.3000</td>\n",
       "      <td>18.6000</td>\n",
       "      <td>85.6000</td>\n",
       "      <td>4.5000</td>\n",
       "    </tr>\n",
       "    <tr>\n",
       "      <th>3</th>\n",
       "      <td>E01000912</td>\n",
       "      <td>Camden 001D</td>\n",
       "      <td>8.8000</td>\n",
       "      <td>16.6000</td>\n",
       "      <td>15.7000</td>\n",
       "      <td>77.3000</td>\n",
       "      <td>9.2000</td>\n",
       "      <td>15.3000</td>\n",
       "      <td>51.3000</td>\n",
       "      <td>77.2000</td>\n",
       "      <td>8.2000</td>\n",
       "    </tr>\n",
       "    <tr>\n",
       "      <th>4</th>\n",
       "      <td>E01000913</td>\n",
       "      <td>Camden 001E</td>\n",
       "      <td>2.1000</td>\n",
       "      <td>34.6000</td>\n",
       "      <td>3.7000</td>\n",
       "      <td>88.2000</td>\n",
       "      <td>1.3000</td>\n",
       "      <td>47.1000</td>\n",
       "      <td>1.9000</td>\n",
       "      <td>89.6000</td>\n",
       "      <td>3.1000</td>\n",
       "    </tr>\n",
       "  </tbody>\n",
       "</table>\n",
       "</div>"
      ],
      "text/plain": [
       "        lsoa        names                        unemployment_rate  \\\n",
       "0  E01000907  Camden 001A                                   9.9000   \n",
       "1  E01000908  Camden 001B                                   8.0000   \n",
       "2  E01000909  Camden 001C                                   4.9000   \n",
       "3  E01000912  Camden 001D                                   8.8000   \n",
       "4  E01000913  Camden 001E                                   2.1000   \n",
       "\n",
       "   couple_household_without_dependent_children  \\\n",
       "0                                      20.1000   \n",
       "1                                      17.3000   \n",
       "2                                      29.3000   \n",
       "3                                      16.6000   \n",
       "4                                      34.6000   \n",
       "\n",
       "                     lone_parent_household  \\\n",
       "0                                  21.1000   \n",
       "1                                  13.2000   \n",
       "2                                   7.3000   \n",
       "3                                  15.7000   \n",
       "4                                   3.7000   \n",
       "\n",
       "                              ethnic_white  \\\n",
       "0                                  73.5000   \n",
       "1                                  72.4000   \n",
       "2                                  84.1000   \n",
       "3                                  77.3000   \n",
       "4                                  88.2000   \n",
       "\n",
       "                              ethnic_black  \\\n",
       "0                                   7.9000   \n",
       "1                                   8.0000   \n",
       "2                                   2.9000   \n",
       "3                                   9.2000   \n",
       "4                                   1.3000   \n",
       "\n",
       "                    tenurec_owned_outright  \\\n",
       "0                                  12.6000   \n",
       "1                                  14.0000   \n",
       "2                                  38.3000   \n",
       "3                                  15.3000   \n",
       "4                                  47.1000   \n",
       "\n",
       "                     tenurtc_social_rented  \\\n",
       "0                                  54.4000   \n",
       "1                                  52.6000   \n",
       "2                                  18.6000   \n",
       "3                                  51.3000   \n",
       "4                                   1.9000   \n",
       "\n",
       "                               good_health  \\\n",
       "0                                  78.0000   \n",
       "1                                  78.2000   \n",
       "2                                  85.6000   \n",
       "3                                  77.2000   \n",
       "4                                  89.6000   \n",
       "\n",
       "                                bad_health  \n",
       "0                                   8.7000  \n",
       "1                                   9.4000  \n",
       "2                                   4.5000  \n",
       "3                                   8.2000  \n",
       "4                                   3.1000  "
      ]
     },
     "execution_count": 14,
     "metadata": {},
     "output_type": "execute_result"
    }
   ],
   "source": [
    "unem_orig.head()"
   ]
  },
  {
   "cell_type": "code",
   "execution_count": 15,
   "id": "92c94443-bb52-4ea5-86a0-812654a8b5ce",
   "metadata": {},
   "outputs": [],
   "source": [
    "unem_orig_x = unem_orig.iloc[:,3:12]"
   ]
  },
  {
   "cell_type": "code",
   "execution_count": 16,
   "id": "b681eb5c-95e0-43aa-8fc0-dfadfe78b66b",
   "metadata": {},
   "outputs": [],
   "source": [
    "unem_orig_xy = unem_orig.iloc[:,0:12]"
   ]
  },
  {
   "cell_type": "code",
   "execution_count": 17,
   "id": "d543e1cf-22eb-49cd-b3a4-e3cef02d42e2",
   "metadata": {},
   "outputs": [
    {
     "data": {
      "text/html": [
       "<div>\n",
       "<style scoped>\n",
       "    .dataframe tbody tr th:only-of-type {\n",
       "        vertical-align: middle;\n",
       "    }\n",
       "\n",
       "    .dataframe tbody tr th {\n",
       "        vertical-align: top;\n",
       "    }\n",
       "\n",
       "    .dataframe thead th {\n",
       "        text-align: right;\n",
       "    }\n",
       "</style>\n",
       "<table border=\"1\" class=\"dataframe\">\n",
       "  <thead>\n",
       "    <tr style=\"text-align: right;\">\n",
       "      <th></th>\n",
       "      <th>couple_household_without_dependent_children</th>\n",
       "      <th>lone_parent_household</th>\n",
       "      <th>ethnic_white</th>\n",
       "      <th>ethnic_black</th>\n",
       "      <th>tenurec_owned_outright</th>\n",
       "      <th>tenurtc_social_rented</th>\n",
       "      <th>good_health</th>\n",
       "      <th>bad_health</th>\n",
       "    </tr>\n",
       "  </thead>\n",
       "  <tbody>\n",
       "    <tr>\n",
       "      <th>0</th>\n",
       "      <td>20.1000</td>\n",
       "      <td>21.1000</td>\n",
       "      <td>73.5000</td>\n",
       "      <td>7.9000</td>\n",
       "      <td>12.6000</td>\n",
       "      <td>54.4000</td>\n",
       "      <td>78.0000</td>\n",
       "      <td>8.7000</td>\n",
       "    </tr>\n",
       "    <tr>\n",
       "      <th>1</th>\n",
       "      <td>17.3000</td>\n",
       "      <td>13.2000</td>\n",
       "      <td>72.4000</td>\n",
       "      <td>8.0000</td>\n",
       "      <td>14.0000</td>\n",
       "      <td>52.6000</td>\n",
       "      <td>78.2000</td>\n",
       "      <td>9.4000</td>\n",
       "    </tr>\n",
       "    <tr>\n",
       "      <th>2</th>\n",
       "      <td>29.3000</td>\n",
       "      <td>7.3000</td>\n",
       "      <td>84.1000</td>\n",
       "      <td>2.9000</td>\n",
       "      <td>38.3000</td>\n",
       "      <td>18.6000</td>\n",
       "      <td>85.6000</td>\n",
       "      <td>4.5000</td>\n",
       "    </tr>\n",
       "    <tr>\n",
       "      <th>3</th>\n",
       "      <td>16.6000</td>\n",
       "      <td>15.7000</td>\n",
       "      <td>77.3000</td>\n",
       "      <td>9.2000</td>\n",
       "      <td>15.3000</td>\n",
       "      <td>51.3000</td>\n",
       "      <td>77.2000</td>\n",
       "      <td>8.2000</td>\n",
       "    </tr>\n",
       "    <tr>\n",
       "      <th>4</th>\n",
       "      <td>34.6000</td>\n",
       "      <td>3.7000</td>\n",
       "      <td>88.2000</td>\n",
       "      <td>1.3000</td>\n",
       "      <td>47.1000</td>\n",
       "      <td>1.9000</td>\n",
       "      <td>89.6000</td>\n",
       "      <td>3.1000</td>\n",
       "    </tr>\n",
       "  </tbody>\n",
       "</table>\n",
       "</div>"
      ],
      "text/plain": [
       "   couple_household_without_dependent_children  \\\n",
       "0                                      20.1000   \n",
       "1                                      17.3000   \n",
       "2                                      29.3000   \n",
       "3                                      16.6000   \n",
       "4                                      34.6000   \n",
       "\n",
       "                     lone_parent_household  \\\n",
       "0                                  21.1000   \n",
       "1                                  13.2000   \n",
       "2                                   7.3000   \n",
       "3                                  15.7000   \n",
       "4                                   3.7000   \n",
       "\n",
       "                              ethnic_white  \\\n",
       "0                                  73.5000   \n",
       "1                                  72.4000   \n",
       "2                                  84.1000   \n",
       "3                                  77.3000   \n",
       "4                                  88.2000   \n",
       "\n",
       "                              ethnic_black  \\\n",
       "0                                   7.9000   \n",
       "1                                   8.0000   \n",
       "2                                   2.9000   \n",
       "3                                   9.2000   \n",
       "4                                   1.3000   \n",
       "\n",
       "                    tenurec_owned_outright  \\\n",
       "0                                  12.6000   \n",
       "1                                  14.0000   \n",
       "2                                  38.3000   \n",
       "3                                  15.3000   \n",
       "4                                  47.1000   \n",
       "\n",
       "                     tenurtc_social_rented  \\\n",
       "0                                  54.4000   \n",
       "1                                  52.6000   \n",
       "2                                  18.6000   \n",
       "3                                  51.3000   \n",
       "4                                   1.9000   \n",
       "\n",
       "                               good_health  \\\n",
       "0                                  78.0000   \n",
       "1                                  78.2000   \n",
       "2                                  85.6000   \n",
       "3                                  77.2000   \n",
       "4                                  89.6000   \n",
       "\n",
       "                                bad_health  \n",
       "0                                   8.7000  \n",
       "1                                   9.4000  \n",
       "2                                   4.5000  \n",
       "3                                   8.2000  \n",
       "4                                   3.1000  "
      ]
     },
     "execution_count": 17,
     "metadata": {},
     "output_type": "execute_result"
    }
   ],
   "source": [
    "unem_orig_x.head()"
   ]
  },
  {
   "cell_type": "code",
   "execution_count": 8,
   "id": "ffd1683a-3e9c-472e-8a8b-cdb7fb0bf09f",
   "metadata": {},
   "outputs": [
    {
     "name": "stdout",
     "output_type": "stream",
     "text": [
      "<class 'pandas.core.frame.DataFrame'>\n",
      "RangeIndex: 4835 entries, 0 to 4834\n",
      "Data columns (total 9 columns):\n",
      " #   Column                                       Non-Null Count  Dtype  \n",
      "---  ------                                       --------------  -----  \n",
      " 0   couple_household_without_dependent_children  4835 non-null   float64\n",
      " 1   lone_parent_household                        4835 non-null   float64\n",
      " 2   ethnic_white                                 4835 non-null   float64\n",
      " 3   ethnic_black                                 4835 non-null   float64\n",
      " 4   ethnic_bame                                  4835 non-null   float64\n",
      " 5   tenurec_owned_outright                       4835 non-null   float64\n",
      " 6   tenurtc_social_rented                        4835 non-null   float64\n",
      " 7   good_health                                  4835 non-null   float64\n",
      " 8   bad_health                                   4835 non-null   float64\n",
      "dtypes: float64(9)\n",
      "memory usage: 340.1 KB\n"
     ]
    }
   ],
   "source": [
    "unem_orig_x.info()"
   ]
  },
  {
   "cell_type": "markdown",
   "id": "72124e91-42f4-40d2-a87d-c776b0a8596c",
   "metadata": {},
   "source": [
    "****Correlation Analysis****"
   ]
  },
  {
   "cell_type": "code",
   "execution_count": 18,
   "id": "0a5f80d1-0dd7-4aea-aa22-fca238173210",
   "metadata": {},
   "outputs": [
    {
     "data": {
      "image/png": "[encoded data removed]",
      "text/plain": [
       "<Figure size 1080x864 with 2 Axes>"
      ]
     },
     "metadata": {
      "needs_background": "light"
     },
     "output_type": "display_data"
    }
   ],
   "source": [
    "df = unem_orig_x\n",
    "plt.rcParams[\"axes.grid\"] = False\n",
    "f = plt.figure(figsize=(15, 12))\n",
    "sn.heatmap(df.corr(),annot=True,linewidth=.5,cmap='YlGnBu')\n",
    "plt.xticks(range(df.shape[1]), df.columns, fontsize=14, rotation=90)\n",
    "plt.yticks(range(df.shape[1]), df.columns, fontsize=14)\n",
    "plt.title('Correlation Matrix',fontsize=20)\n",
    "plt.show()\n",
    "#plt.savefig(\"Correlation Heatmap\", dpi=300, bbox_inches = \"tight\") #,transparent=True"
   ]
  },
  {
   "cell_type": "markdown",
   "id": "5c46de30-b47e-42b3-bc1f-0ffd7ab93c20",
   "metadata": {},
   "source": [
    "****VIF****"
   ]
  },
  {
   "cell_type": "code",
   "execution_count": 19,
   "id": "9d0ba0cf-ea0e-4ea4-ae4d-d6194a8bc423",
   "metadata": {},
   "outputs": [],
   "source": [
    "# calculating VIF\n",
    "# This function is adjusted from: https://stackoverflow.com/a/51329496/4667568\n",
    "from statsmodels.stats.outliers_influence import variance_inflation_factor \n",
    "from statsmodels.tools.tools import add_constant\n",
    "\n",
    "def drop_column_using_vif_(df, thresh=5):\n",
    "    '''\n",
    "    Calculates VIF each feature in a pandas dataframe, and repeatedly drop the columns with the highest VIF\n",
    "    A constant must be added to variance_inflation_factor or the results will be incorrect\n",
    "\n",
    "    :param df: the pandas dataframe containing only the predictor features, not the response variable\n",
    "    :param thresh: (default 5) the threshould VIF value. If the VIF of a variable is greater than thresh, it should be removed from the dataframe\n",
    "    :return: dataframe with multicollinear features removed\n",
    "    '''\n",
    "    while True:\n",
    "        # adding a constatnt item to the data. add_constant is a function from statsmodels (see the import above)\n",
    "        df_with_const = add_constant(df)\n",
    "\n",
    "        vif_df = pd.Series([variance_inflation_factor(df_with_const.values, i) \n",
    "               for i in range(df_with_const.shape[1])], name= \"VIF\",\n",
    "              index=df_with_const.columns).to_frame()\n",
    "\n",
    "        # drop the const\n",
    "        vif_df = vif_df.drop('const')\n",
    "        \n",
    "        # if the largest VIF is above the thresh, remove a variable with the largest VIF\n",
    "        # If there are multiple variabels with VIF>thresh, only one of them is removed. This is because we want to keep as many variables as possible\n",
    "        if vif_df.VIF.max() > thresh:\n",
    "            # If there are multiple variables with the maximum VIF, choose the first one\n",
    "            index_to_drop = vif_df.index[vif_df.VIF == vif_df.VIF.max()].tolist()[0]\n",
    "            print('Dropping: {}'.format(index_to_drop))\n",
    "            df = df.drop(columns = index_to_drop)\n",
    "        else:\n",
    "            # No VIF is above threshold. Exit the loop\n",
    "            break\n",
    "\n",
    "    return df"
   ]
  },
  {
   "cell_type": "code",
   "execution_count": 20,
   "id": "43566b9a-17ec-4c3e-b389-d97ee20c92ec",
   "metadata": {},
   "outputs": [
    {
     "data": {
      "text/plain": [
       "Index(['couple_household_without_dependent_children', 'lone_parent_household',\n",
       "       'ethnic_white', 'ethnic_black', 'tenurec_owned_outright',\n",
       "       'tenurtc_social_rented', 'good_health', 'bad_health'],\n",
       "      dtype='object')"
      ]
     },
     "execution_count": 20,
     "metadata": {},
     "output_type": "execute_result"
    }
   ],
   "source": [
    "unem_orig_x.columns"
   ]
  },
  {
   "cell_type": "code",
   "execution_count": 21,
   "id": "27b82fa4-7d22-4f5c-950b-c0613355ae63",
   "metadata": {},
   "outputs": [
    {
     "name": "stdout",
     "output_type": "stream",
     "text": [
      "Dropping: bad_health\n",
      "Dropping: couple_household_without_dependent_children\n",
      "The columns remaining after VIF selection are:\n",
      "Index(['lone_parent_household', 'ethnic_white', 'ethnic_black',\n",
      "       'tenurec_owned_outright', 'tenurtc_social_rented', 'good_health'],\n",
      "      dtype='object')\n"
     ]
    }
   ],
   "source": [
    "# using VIF on the dataset\n",
    "df_predictors_selected_VIF = drop_column_using_vif_(unem_orig_x)\n",
    "# Note that there is a 'while' loop in the drop_column_using_vif_. In each iteration, one variable is dropped.\n",
    "print(\"The columns remaining after VIF selection are:\")\n",
    "print(df_predictors_selected_VIF.columns)"
   ]
  },
  {
   "cell_type": "code",
   "execution_count": 22,
   "id": "3dedda3b-6d34-42b4-a885-21de27c3c381",
   "metadata": {},
   "outputs": [
    {
     "data": {
      "text/html": [
       "<table class=\"simpletable\">\n",
       "<caption>OLS Regression Results</caption>\n",
       "<tr>\n",
       "  <th>Dep. Variable:</th>    <td>unemployment_rate</td> <th>  R-squared:         </th> <td>   0.806</td> \n",
       "</tr>\n",
       "<tr>\n",
       "  <th>Model:</th>                   <td>OLS</td>        <th>  Adj. R-squared:    </th> <td>   0.806</td> \n",
       "</tr>\n",
       "<tr>\n",
       "  <th>Method:</th>             <td>Least Squares</td>   <th>  F-statistic:       </th> <td>   3339.</td> \n",
       "</tr>\n",
       "<tr>\n",
       "  <th>Date:</th>             <td>Sat, 03 Dec 2022</td>  <th>  Prob (F-statistic):</th>  <td>  0.00</td>  \n",
       "</tr>\n",
       "<tr>\n",
       "  <th>Time:</th>                 <td>14:44:12</td>      <th>  Log-Likelihood:    </th> <td> -8829.7</td> \n",
       "</tr>\n",
       "<tr>\n",
       "  <th>No. Observations:</th>      <td>  4835</td>       <th>  AIC:               </th> <td>1.767e+04</td>\n",
       "</tr>\n",
       "<tr>\n",
       "  <th>Df Residuals:</th>          <td>  4828</td>       <th>  BIC:               </th> <td>1.772e+04</td>\n",
       "</tr>\n",
       "<tr>\n",
       "  <th>Df Model:</th>              <td>     6</td>       <th>                     </th>     <td> </td>    \n",
       "</tr>\n",
       "<tr>\n",
       "  <th>Covariance Type:</th>      <td>nonrobust</td>     <th>                     </th>     <td> </td>    \n",
       "</tr>\n",
       "</table>\n",
       "<table class=\"simpletable\">\n",
       "<tr>\n",
       "             <td></td>               <th>coef</th>     <th>std err</th>      <th>t</th>      <th>P>|t|</th>  <th>[0.025</th>    <th>0.975]</th>  \n",
       "</tr>\n",
       "<tr>\n",
       "  <th>const</th>                  <td>   21.3526</td> <td>    0.708</td> <td>   30.177</td> <td> 0.000</td> <td>   19.965</td> <td>   22.740</td>\n",
       "</tr>\n",
       "<tr>\n",
       "  <th>lone_parent_household</th>  <td>    0.1539</td> <td>    0.006</td> <td>   24.562</td> <td> 0.000</td> <td>    0.142</td> <td>    0.166</td>\n",
       "</tr>\n",
       "<tr>\n",
       "  <th>ethnic_white</th>           <td>   -0.0430</td> <td>    0.001</td> <td>  -30.912</td> <td> 0.000</td> <td>   -0.046</td> <td>   -0.040</td>\n",
       "</tr>\n",
       "<tr>\n",
       "  <th>ethnic_black</th>           <td>    0.0252</td> <td>    0.003</td> <td>    7.467</td> <td> 0.000</td> <td>    0.019</td> <td>    0.032</td>\n",
       "</tr>\n",
       "<tr>\n",
       "  <th>tenurec_owned_outright</th> <td>   -0.0312</td> <td>    0.003</td> <td>   -9.808</td> <td> 0.000</td> <td>   -0.037</td> <td>   -0.025</td>\n",
       "</tr>\n",
       "<tr>\n",
       "  <th>tenurtc_social_rented</th>  <td>    0.0378</td> <td>    0.002</td> <td>   16.138</td> <td> 0.000</td> <td>    0.033</td> <td>    0.042</td>\n",
       "</tr>\n",
       "<tr>\n",
       "  <th>good_health</th>            <td>   -0.1648</td> <td>    0.008</td> <td>  -21.476</td> <td> 0.000</td> <td>   -0.180</td> <td>   -0.150</td>\n",
       "</tr>\n",
       "</table>\n",
       "<table class=\"simpletable\">\n",
       "<tr>\n",
       "  <th>Omnibus:</th>       <td>894.904</td> <th>  Durbin-Watson:     </th> <td>   1.499</td>\n",
       "</tr>\n",
       "<tr>\n",
       "  <th>Prob(Omnibus):</th> <td> 0.000</td>  <th>  Jarque-Bera (JB):  </th> <td>4463.407</td>\n",
       "</tr>\n",
       "<tr>\n",
       "  <th>Skew:</th>          <td> 0.802</td>  <th>  Prob(JB):          </th> <td>    0.00</td>\n",
       "</tr>\n",
       "<tr>\n",
       "  <th>Kurtosis:</th>      <td> 7.425</td>  <th>  Cond. No.          </th> <td>3.62e+03</td>\n",
       "</tr>\n",
       "</table><br/><br/>Notes:<br/>[1] Standard Errors assume that the covariance matrix of the errors is correctly specified.<br/>[2] The condition number is large, 3.62e+03. This might indicate that there are<br/>strong multicollinearity or other numerical problems."
      ],
      "text/plain": [
       "<class 'statsmodels.iolib.summary.Summary'>\n",
       "\"\"\"\n",
       "                            OLS Regression Results                            \n",
       "==============================================================================\n",
       "Dep. Variable:      unemployment_rate   R-squared:                       0.806\n",
       "Model:                            OLS   Adj. R-squared:                  0.806\n",
       "Method:                 Least Squares   F-statistic:                     3339.\n",
       "Date:                Sat, 03 Dec 2022   Prob (F-statistic):               0.00\n",
       "Time:                        14:44:12   Log-Likelihood:                -8829.7\n",
       "No. Observations:                4835   AIC:                         1.767e+04\n",
       "Df Residuals:                    4828   BIC:                         1.772e+04\n",
       "Df Model:                           6                                         \n",
       "Covariance Type:            nonrobust                                         \n",
       "==========================================================================================\n",
       "                             coef    std err          t      P>|t|      [0.025      0.975]\n",
       "------------------------------------------------------------------------------------------\n",
       "const                     21.3526      0.708     30.177      0.000      19.965      22.740\n",
       "lone_parent_household      0.1539      0.006     24.562      0.000       0.142       0.166\n",
       "ethnic_white              -0.0430      0.001    -30.912      0.000      -0.046      -0.040\n",
       "ethnic_black               0.0252      0.003      7.467      0.000       0.019       0.032\n",
       "tenurec_owned_outright    -0.0312      0.003     -9.808      0.000      -0.037      -0.025\n",
       "tenurtc_social_rented      0.0378      0.002     16.138      0.000       0.033       0.042\n",
       "good_health               -0.1648      0.008    -21.476      0.000      -0.180      -0.150\n",
       "==============================================================================\n",
       "Omnibus:                      894.904   Durbin-Watson:                   1.499\n",
       "Prob(Omnibus):                  0.000   Jarque-Bera (JB):             4463.407\n",
       "Skew:                           0.802   Prob(JB):                         0.00\n",
       "Kurtosis:                       7.425   Cond. No.                     3.62e+03\n",
       "==============================================================================\n",
       "\n",
       "Notes:\n",
       "[1] Standard Errors assume that the covariance matrix of the errors is correctly specified.\n",
       "[2] The condition number is large, 3.62e+03. This might indicate that there are\n",
       "strong multicollinearity or other numerical problems.\n",
       "\"\"\""
      ]
     },
     "execution_count": 22,
     "metadata": {},
     "output_type": "execute_result"
    }
   ],
   "source": [
    "model_unem_orig = sm.OLS(endog=unem_orig_xy[['unemployment_rate']], exog=sm.add_constant(df_predictors_selected_VIF)).fit()\n",
    "model_unem_orig.summary()"
   ]
  },
  {
   "cell_type": "markdown",
   "id": "16af0970-c376-4c27-801d-ab7d36131a86",
   "metadata": {},
   "source": [
    "****Residual****"
   ]
  },
  {
   "cell_type": "code",
   "execution_count": 14,
   "id": "fc058a5d-1d41-4d25-9c3c-c86ffed700ad",
   "metadata": {},
   "outputs": [
    {
     "data": {
      "image/png": "[encoded data removed]",
      "text/plain": [
       "<Figure size 432x288 with 1 Axes>"
      ]
     },
     "metadata": {
      "needs_background": "light"
     },
     "output_type": "display_data"
    }
   ],
   "source": [
    "# plot \n",
    "plt.scatter(model_unem_orig.fittedvalues, model_unem_orig.resid)\n",
    "# adding title and labels\n",
    "plt.xlabel('Fitted unemployment')\n",
    "plt.ylabel('Residual')\n",
    "plt.title('Residual vs. Fitted Plot of unemployment')\n",
    "plt.show()"
   ]
  },
  {
   "cell_type": "code",
   "execution_count": null,
   "id": "eb245298-79f8-4733-a024-d2dde60d4597",
   "metadata": {},
   "outputs": [],
   "source": [
    "#后面还要跟一个Harvery Collier test来检验模型是否线性，我还没弄完"
   ]
  }
 ],
 "metadata": {
  "kernelspec": {
   "display_name": "Python 3 (ipykernel)",
   "language": "python",
   "name": "python3"
  },
  "language_info": {
   "codemirror_mode": {
    "name": "ipython",
    "version": 3
   },
   "file_extension": ".py",
   "mimetype": "text/x-python",
   "name": "python",
   "nbconvert_exporter": "python",
   "pygments_lexer": "ipython3",
   "version": "3.10.5"
  }
 },
 "nbformat": 4,
 "nbformat_minor": 5
}
